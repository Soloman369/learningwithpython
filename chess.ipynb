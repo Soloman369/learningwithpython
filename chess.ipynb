import numpy as np
from itertools import product
import numpy as np

# black is positive and white is negative
# 1 is pawn -- 2 is King -- 3 is Queen -- 4 is roque -- 5 is Bishop -- 6 is "l3awd"
class pawn:
    def __init__(self, x, y, color):
        self.x = x
        self.y = y
        self.color = color
        self.code = 1
        self.dead = False
        self.first_play = True # After the first play TO DO: first_play = False

class king:
    def __init__(self, x, y, color):
        self.x = x
        self.y = y
        self.color = color
        self.code = 2
        self.dead = False
        
class queen:
    def __init__(self, x, y, color):
        self.x = x
        self.y = y
        self.color = color
        self.code = 3
        self.dead = False
    
class rook:
    def __init__(self, x, y, color):
        self.x = x
        self.y = y
        self.color = color
        self.code = 6
        self.dead = False

class bishop:
    def __init__(self, x, y, color):
        self.x = x
        self.y = y
        self.color = color
        self.code = 4
        self.dead = False
        
        
class knight:
    def __init__(self, x, y, color):
        self.x = x
        self.y = y
        self.color = color
        self.code = 5
        self.dead = False

class checkerboard:
    def __init__(self):
        self.board = np.zeros((8,8)).astype(int)
        
        self.pawns = [pawn(1,i,1) for i in range(8)]+[pawn(6,i,-1) for i in range(8)]
        for p in self.pawns:
            self.board[p.x,p.y] = p.code * p.color
            
        self.bishops = [bishop(0,(3*i+2),1) for i in range(2)]+[bishop(7,(3*i+2),-1) for i in range(2)]
        for p in self.bishops:
            self.board[p.x,p.y] = p.code * p.color
            
        self.kings = [king(0,4,1)]+[king(7,4,-1)]
        for p in self.kings:
            self.board[p.x,p.y] = p.code * p.color
            
        self.queens = [queen(0,3,1)]+[queen(7,3,-1)]
        for p in self.queens:
            self.board[p.x,p.y] = p.code * p.color
            
        self.knights = [knight(0,(5*i+1),1) for i in range(2)]+[knight(7,(5*i+1),-1) for i in range(2)]
        for p in self.knights:
            self.board[p.x,p.y] = p.code * p.color
            
        self.rooks = [rook(0,(7*i),1) for i in range(2)]+[rook(7,(7*i),-1) for i in range(2)]
        for p in self.rooks:
            self.board[p.x,p.y] = p.code * p.color
            
        self.all_pieces = self.pawns+self.bishops+self.knights+self.rooks+self.kings+self.queens
        self.all_whites = [p for p in self.all_pieces if p.color < 0]
        self.all_blacks = [p for p in self.all_pieces if p.color > 0]
        self.white_turn = True
            
    def hv_diag_moves(self, p, direction, king = False):
        moves = []
        if direction == "hv":
            directions = [(1,0), (-1,0),(0,1), (0,-1)]
        elif direction == "diag":
            directions = [(1,1), (1,-1),(-1,1), (-1,-1)]
        extent = range(1,8) if not king else [1]
        for i,j in directions:
            for k in extent:
                x,y = p.x + k*i, p.y + k*j
                if not (x in range(8) and y in range(8)): 
                    break
                if self.board[x, y] == 0:
                    moves.append((x, y))
                else : 
                    break        
        return moves
    
    def L_moves(self,p):
        moves = []
        positions = [(-1, -2), (-2, -1), (-1, 2), (2, -1), (1, -2), (-2, 1), (1, 2), (2, 1)]
        for i,j in positions:
            x,y = p.x+i, p.y+j 
            if not (x in range(8) and y in range(8)): 
                continue
            if self.board[x, y] == 0:
                moves.append((x, y))
        return moves
    
        
    def possible_moves(self, p):
        moves = []
        #print(p.code, p.color, p.x, p.y)
        
        if p.code == 1:
            if self.board[p.x+p.color, p.y] == 0:
                moves.append((p.x+p.color, p.y))
            if p.first_play and self.board[p.x+2*p.color, p.y] == 0:
                moves.append((p.x+2*p.color, p.y))
        
        elif p.code == 2: #king
            moves = self.hv_diag_moves(p, direction = "diag", king = True) + self.hv_diag_moves(p, direction = "hv", king = True)

        elif p.code == 3: #queen
            moves = self.hv_diag_moves(p, direction = "diag") + self.hv_diag_moves(p, direction = "hv")
        
        elif p.code == 4 : #bishop
            moves = self.hv_diag_moves(p, direction = "diag")
            
        elif p.code ==5 : #knight
            moves = self.L_moves(p)
            
        elif p.code == 6: #rook
            moves = self.hv_diag_moves(p, direction = "hv")
        
        return moves
        
    def move(self, p, position=None):
        if position is None:
            position = np.random.choice(self.possible_moves(p))
        if position in self.possible_moves(p):
            
            board[(p.x,p.y)] = 0
            p.x,p.y = position
            board[position] = p.code*p.color
        
            
    def __repr__(self):
        return str(self.board)
# toute pièce protégeant le roi ne peut pas bouger

board = checkerboard()

board
#TO_DO: bouger un élement, vérifier si un adversaire est dans la case d'arrivée
# implémenter si le roi est en echec (méthode qui vérifie, même en conditionnel)
# Restreindre la liste de possibilité en fonction de l'echec
# Alterner les joueurs
# le joueur doit choisir la pièce à jouer et choisir la possibilité à jouer
# manger si possible
# Faire l'interface (à qui le tour, puis.....)
# Détecter l'echec et mat
# afficher le score
