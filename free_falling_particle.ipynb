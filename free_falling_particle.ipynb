%matplotlib inline

import numpy as np
import matplotlib.pyplot as plt

from matplotlib import animation, rc
from IPython.display import HTML

fig, ax = plt.subplots()
ax.set_xlim(( -2, 2))
ax.set_ylim((0, 105)) # 100meters high

FPS = 30 # 30 frames per second (frame rate) - good to 
animation_duration = 5 # 5 secondes
n_frames = animation_duration*FPS # number of frames
interval = 1000/FPS # time interval between two frames in miliseconds
dt = 1/FPS # time interval between two frames in seconds

# initialize plt object, we will change its positions later
particles, = ax.plot([], [], 'bo', ms=6)
text = ax.text(0.5, 5, '') # text that will hold the speed


# The falling object
class particle():
    def __init__(self, x0=0, y0=0, vx0=0, vy0=0):
        self.x = x0
        self.y = y0
        self.vx = vx0
        self.vy = vy0
        
    def update(self, ax, ay):
        # move given acceleration coming from forces (gravitation for example)
        # update vx and vy
        self.vx = self.vx + ax*dt
        self.vy = self.vy + ay*dt
        # update x and y
        self.x = self.x + self.vx*dt
        self.y = self.y + self.vy*dt

# The initialization method - put the particle at 100m altitude and 0 initial speed
def init():
    """initialize animation"""
    P.x = 0
    P.y = 100
    P.vx = 0
    P.vy = 0
    particles.set_data([], []) # empty plot, no particle
    text.set_text('')
    return (particles, text)

def animate(i):
    """perform animation step"""
    # time between i and i+1 is 100ms/3 = 33.33 ms
    ms = 5 # size of the marker
    P.update(0, -9.81) # acceleration de gravité
    particles.set_data([P.x], # X coordinates of each particle
                       [P.y]) # Y coordinates of each particle
    text.set_text(f'vx: {P.vy:0.2f} m/s')
    
    particles.set_markersize(ms)
    return particles, text

# the moving particle
P = particle()

anim = animation.FuncAnimation(fig, animate, frames=n_frames,
                              interval=interval, blit=True, init_func=init)

HTML(anim.to_html5_video())

